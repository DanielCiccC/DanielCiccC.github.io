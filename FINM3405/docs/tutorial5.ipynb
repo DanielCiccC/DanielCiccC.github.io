{
 "cells": [
  {
   "cell_type": "markdown",
   "metadata": {},
   "source": [
    "## Tutorial 5\n"
   ]
  },
  {
   "cell_type": "code",
   "execution_count": 3,
   "metadata": {},
   "outputs": [],
   "source": [
    "import numpy as np\n",
    "from scipy.stats import norm\n",
    "import yfinance as yf"
   ]
  },
  {
   "cell_type": "code",
   "execution_count": 4,
   "metadata": {},
   "outputs": [
    {
     "name": "stderr",
     "output_type": "stream",
     "text": [
      "[*********************100%***********************]  1 of 1 completed\n"
     ]
    }
   ],
   "source": [
    "BHP = yf.download(\"BHP.AX\")[\"Adj Close\"]\n",
    "ret = np.log(BHP).diff(1).dropna()\n",
    "sigma = np.std(ret)*np.sqrt(252)"
   ]
  },
  {
   "cell_type": "code",
   "execution_count": 2,
   "metadata": {},
   "outputs": [],
   "source": [
    "# 3 month, 4.3563,6, 4.4678\n",
    "\n",
    "def option_calculations(S, K, T, r, sigma, q, option_type):\n",
    "    d1 = (np.log(S/K) * (r-q + 0.5 * sigma **2) * T) / (sigma * np.sqrt(T))\n",
    "    d2 = d1 - sigma * np.sqrt(T)\n",
    "    \n",
    "    if option_type == 'call':\n",
    "        price = S * np.exp(-1 * T) * norm()\n",
    "        delta = np.exp(-1 * T) * norm.cdf(d1)\n",
    "        rho = K * T * np.exp(-r *T) * norm.cdf(d2)\n",
    "        theta = (-S * np.exp(-q * T) * norm.cdf(d1) * sigma / (2/ np.sqrt(T))\n",
    "                - q * S * np.exp(-1 * T) * norm.cdf(-d1)\n",
    "                + r * K * np.exp(-r * T) * norm.cdf(-d2))\n",
    "        \n",
    "    elif option_type == 'put':\n",
    "        # TODO: fix\n",
    "        price = S * np.exp(-1 * T) * norm()\n",
    "        delta = np.exp(-1 * T) * norm.cdf(d1)\n",
    "        rho = K * T * np.exp(-r *T) * norm.cdf(d2)\n",
    "        theta = (-S * np.exp(-q * T) * norm.cdf(d1) * sigma / (2/ np.sqrt(T))\n",
    "                - q * S * np.exp(-1 * T) * norm.cdf(-d1)\n",
    "                + r * K * np.exp(-r * T) * norm.cdf(-d2))\n",
    "    \n",
    "    gamma = np.exp(-1 * T) * norm.cdf(d1) / (S * sigma * np.sqrt(T))\n",
    "    vega = np.exp(-q * T) \n",
    "\n",
    "    return price, delta, rho,theta, gamma, vega"
   ]
  },
  {
   "cell_type": "code",
   "execution_count": null,
   "metadata": {},
   "outputs": [],
   "source": [
    "K = 40\n",
    "S = K\n",
    "q = yf.Ticker(\"PHB.AX\").info['dividendYield']\n",
    "\n",
    "# 3 month options\n",
    "T_3m = 90/365\n",
    "r_3m = np.log(1 + 0.043563 * T_3m) / T_3m\n",
    "\n",
    "# 6 month options\n",
    "T_6m = 180/365\n",
    "r_6m = np.log(1 + 0.044678 * T_6m) / T_6m\n",
    "\n",
    "results = {\n",
    "    \"3m c\" : option_calculations(S, K, T_3m, r_3m, sigma, q, 'call'),\n",
    "    \"3m p\" : option_calculations(S, K, T_3m, r_3m, sigma, q, 'put'),\n",
    "    \"6m c\" : option_calculations(S, K, T_6m, r_6m, sigma, q, 'call'),\n",
    "    \"6m p\" : option_calculations(S, K, T_6m, r_6m, sigma, q, 'put'),\n",
    "}\n"
   ]
  },
  {
   "cell_type": "code",
   "execution_count": null,
   "metadata": {},
   "outputs": [],
   "source": [
    "scenarios = {\n",
    "    \"Decrease 15%\" : K * 0.85,\n",
    "    \"Increase 15%\" : K * 1.15,\n",
    "    \"Decrease 30%\" : K * 0.70,\n",
    "    \"Increase 30%\" : K * 1.30\n",
    "}\n",
    "\n",
    "for scenario, S in scenarios.items():\n"
   ]
  },
  {
   "cell_type": "markdown",
   "metadata": {},
   "source": [
    "# Question 3"
   ]
  },
  {
   "cell_type": "code",
   "execution_count": 8,
   "metadata": {},
   "outputs": [],
   "source": [
    "# 3 month, 4.3563,6, 4.4678\n",
    "\n",
    "def black_scholes(S, K, T, r, sigma, q, option_type):\n",
    "    d1 = (np.log(S/K) * (r-q + 0.5 * sigma **2) * T) / (sigma * np.sqrt(T))\n",
    "    d2 = d1 - sigma * np.sqrt(T)\n",
    "    \n",
    "    if option_type == 'call':\n",
    "        price = S * np.exp(-1 * T) * norm()\n",
    "        delta = np.exp(-1 * T) * norm.cdf(d1)\n",
    "        rho = K * T * np.exp(-r *T) * norm.cdf(d2)\n",
    "        theta = (-S * np.exp(-q * T) * norm.cdf(d1) * sigma / (2/ np.sqrt(T))\n",
    "                - q * S * np.exp(-1 * T) * norm.cdf(-d1)\n",
    "                + r * K * np.exp(-r * T) * norm.cdf(-d2))\n",
    "        \n",
    "    elif option_type == 'put':\n",
    "        # TODO: fix\n",
    "        price = S * np.exp(-1 * T) * norm()\n",
    "        delta = np.exp(-1 * T) * norm.cdf(d1)\n",
    "        rho = K * T * np.exp(-r *T) * norm.cdf(d2)\n",
    "        theta = (-S * np.exp(-q * T) * norm.cdf(d1) * sigma / (2/ np.sqrt(T))\n",
    "                - q * S * np.exp(-1 * T) * norm.cdf(-d1)\n",
    "                + r * K * np.exp(-r * T) * norm.cdf(-d2))\n",
    "    \n",
    "    gamma = np.exp(-1 * T) * norm.cdf(d1) / (S * sigma * np.sqrt(T))\n",
    "    vega = np.exp(-q * T) \n",
    "\n",
    "    return price, delta, rho,theta, gamma, vega"
   ]
  },
  {
   "cell_type": "code",
   "execution_count": 7,
   "metadata": {},
   "outputs": [],
   "source": [
    "from datetime import datetime\n",
    "\n",
    "expiry_date = datetime(2024, 9, 19)\n",
    "today = datetime(2024, 8, 27)\n",
    "T =(expiry_date - today).days / 365\n",
    "\n",
    "r_cc = np.log(1 + 0.043031 * 12) * 12\n",
    "\n",
    "S = 40\n",
    "q # dividend yield\n",
    "r = r_cc\n",
    "\n",
    "call_strike = [39.51, 39.01, 38.51, 38.01]\n",
    "call_bid_ask_spreads = [(0.78, 1.06), (1.03, 1.32), (1.26, 1.66), (1.59, 1.98)]\n",
    "put_strike = [39.51, 39.01, 38.51, 38.01]\n",
    "call_big_ask_spread = [(1.44, 1.82), (1.77, 2.14), (2.05, 2.55), (2.45, 2.95)]\n",
    "\n",
    "for sigma in [0.2, 0.25, 0.3]:\n",
    "    print(f\"\\n Volatility sigma:\")\n",
    "    \n",
    "    print(\"ITM call options:\")\n",
    "    for K, (bid, ask), in zip(call_strike, call_bid_ask_spreads):\n",
    "        if S > K:\n",
    "           call_price = black_scholes(S, K, T, r, sigma, q, 'call')\n",
    "           print(f\"Strike {K:.2f}, Bid {bid:.2f}, Ask {ask:.2f} \")\n",
    "           if bid <= call_price <= ask:\n",
    "               \n"
   ]
  },
  {
   "cell_type": "markdown",
   "metadata": {},
   "source": [
    "# Question 5"
   ]
  },
  {
   "cell_type": "code",
   "execution_count": 10,
   "metadata": {},
   "outputs": [
    {
     "name": "stderr",
     "output_type": "stream",
     "text": [
      "[*********************100%***********************]  1 of 1 completed\n",
      "[*********************100%***********************]  1 of 1 completed\n"
     ]
    }
   ],
   "source": [
    "EURUSD =yf.download(\"EURUSD=X\")[\"Adj Close\"]\n",
    "USDEUR =yf.download(\"USDEUR=X\")[\"Adj Close\"]"
   ]
  },
  {
   "cell_type": "code",
   "execution_count": 11,
   "metadata": {},
   "outputs": [],
   "source": [
    "ret_eur_usd = np.log(EURUSD).diff(1).dropna()\n",
    "sigma_eur_usd = np.std(ret_eur_usd) * np.sqrt(252)\n",
    "\n",
    "ret_usd_eur = np.log(USDEUR).diff(1).dropna()\n",
    "sigma_usd_eur = np.std(ret_usd_eur) * np.sqrt(252)\n",
    "\n",
    "# swap prices, grab the bottom from our list\n",
    "s_eur_usd = USDEUR[-1]\n",
    "s_usd_eur = EURUSD[-1]\n",
    "\n",
    "k_eur_usd = s_eur_usd\n",
    "k_usd_eur = s_usd_eur\n",
    "\n",
    "maturities = {\"1M\":30, \"3M\":90, \"6M\":180, \"12M\": 360}\n",
    "\n",
    "# interest rates\n",
    "euribor_rates = {\"1M\": 0.03606, \"3M\": 0.03542, \"6M\": 0.03398, \"12M\": 0.03148}\n",
    "sofr_rates = {\"1M\": 0.0534157, \"3M\": 0.0510155, \"6M\": 0.0478062, \"12M\": 0.0428661}\n",
    "\n",
    "\n",
    "for maturity in maturities:\n",
    "    T = maturities[maturity]\n",
    "\n",
    "    rf = euribor_rates[maturity]\n",
    "    rd = sofr_rates[maturity]\n",
    "    \n",
    "    rf_cc = (360 / maturities[maturity]) * np.log(1 + rf * maturities[maturity] / 360 )\n",
    "    rd_cc = (360 / maturities[maturity]) * np.log(1 + rd * maturities[maturity] / 360 )\n",
    "    \n",
    "    d1 = (np.log(S/K) * (rd_cc-q + 0.5 * sigma_eur_usd **2) * T) / (sigma_eur_usd * np.sqrt(T))\n",
    "    d2 = d1 - sigma_eur_usd * np.sqrt(T)\n",
    "    C_eur_usd = s_eur_usd * np.exp(-rf_cc * T) * norm.cdf(d1) - k_eur_usd * np.exp(-rd_cc * T) * norm.cdf(d2)\n",
    "    P_eur_usd = s_eur_usd * np.exp(-rf_cc * T) * norm.cdf(-d1) - k_eur_usd * np.exp(-rd_cc * T) * norm.cdf(-d2)\n",
    "    \n",
    "    print(f\"\\n EUR/USD, Maturity {maturity}\")\n",
    "    print(f\"Call price {C_eur_usd:.4f}, Put price {P_eur_usd:.4f}\")\n",
    "    \n"
   ]
  },
  {
   "cell_type": "markdown",
   "metadata": {},
   "source": [
    "# Question 7"
   ]
  },
  {
   "cell_type": "code",
   "execution_count": 17,
   "metadata": {},
   "outputs": [
    {
     "name": "stderr",
     "output_type": "stream",
     "text": [
      "[*********************100%***********************]  1 of 1 completed"
     ]
    },
    {
     "name": "stdout",
     "output_type": "stream",
     "text": [
      "0.5138270990236464 0.47539868940967855\n"
     ]
    },
    {
     "name": "stderr",
     "output_type": "stream",
     "text": [
      "\n"
     ]
    }
   ],
   "source": [
    "bhp_data = yf.download(\"BHP.AX\", start = \"2023-01-01\", end = \"2023-12-31\")\n",
    "S = bhp_data['Adj Close'][-1]\n",
    "BHP = bhp_data['Adj Close']\n",
    "\n",
    "returns = np.log(BHP / BHP.shift(1)).dropna()\n",
    "sigma = np.std(returns) * np.sqrt(252)\n",
    "\n",
    "\n",
    "# 3 month options\n",
    "T_3m = 90/365\n",
    "r = np.log(1 + 0.043563 * T_3m) / T_3m\n",
    "T = 3/12\n",
    "K = S\n",
    "q = 0\n",
    "\n",
    "d2 = (np.log(S/K)+ (r-q-0.5*sigma**2)) * T / (sigma * np.sqrt(T))\n",
    "\n",
    "C = np.exp(-r*T) * norm.cdf(d2)\n",
    "P = np.exp(-r*T) * norm.cdf(-d2)\n",
    "\n",
    "print(C, P)"
   ]
  }
 ],
 "metadata": {
  "kernelspec": {
   "display_name": "Python 3",
   "language": "python",
   "name": "python3"
  },
  "language_info": {
   "codemirror_mode": {
    "name": "ipython",
    "version": 3
   },
   "file_extension": ".py",
   "mimetype": "text/x-python",
   "name": "python",
   "nbconvert_exporter": "python",
   "pygments_lexer": "ipython3",
   "version": "3.9.16"
  }
 },
 "nbformat": 4,
 "nbformat_minor": 2
}
